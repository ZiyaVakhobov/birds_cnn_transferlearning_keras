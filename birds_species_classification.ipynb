{
  "cells": [
    {
      "cell_type": "code",
      "metadata": {
        "id": "Bg1YTzefRn44",
        "colab_type": "code",
        "colab": {}
      },
      "source": [
        "import os\n",
        "os.environ['KAGGLE_USERNAME'] = \"KaggleUsername\"\n",
        "os.environ['KAGGLE_KEY'] = \"KaggleToekn\"\n",
        "!kaggle datasets download -d gpiosenka/100-bird-species\n",
        "!unzip 100-bird-species\n"
      ],
      "execution_count": 0,
      "outputs": []
    },
    {
      "cell_type": "code",
      "metadata": {
        "colab_type": "code",
        "id": "iBMcobPHdD8O",
        "colab": {}
      },
      "source": [
        "import os\n",
        "import numpy as np\n",
        "import matplotlib.pyplot as plt\n",
        "import tqdm as tqdm\n",
        "from tensorflow.python.keras.preprocessing import image\n",
        "from tensorflow.keras.models import Sequential\n",
        "from tensorflow.keras import layers\n",
        "from tensorflow.keras.layers import Dense, Dropout\n",
        "from tensorflow.keras.preprocessing.image import ImageDataGenerator\n",
        "import tensorflow as tf\n",
        "from sklearn.utils import shuffle\n",
        "from keras import utils"
      ],
      "execution_count": 0,
      "outputs": []
    },
    {
      "cell_type": "code",
      "metadata": {
        "id": "UogTDfxcHlKO",
        "colab_type": "code",
        "colab": {}
      },
      "source": [
        "# creates a data generator object that transforms images\n",
        "datagen = ImageDataGenerator(\n",
        "  rotation_range=20,\n",
        "  zoom_range=0.1,\n",
        "  width_shift_range=0.2,\n",
        "  height_shift_range=0.1,\n",
        "  shear_range=0.15,\n",
        "  horizontal_flip=True,\n",
        "  fill_mode='nearest'\n",
        ")\n"
      ],
      "execution_count": 0,
      "outputs": []
    },
    {
      "cell_type": "code",
      "metadata": {
        "colab_type": "code",
        "id": "ro4oYaEmxe4r",
        "colab": {}
      },
      "source": [
        "IMG_SIZE = 224\n",
        "train_classes = os.listdir('./180/train')[0:30]\n",
        "def extract_folder(folder_name,generate=False):\n",
        "  labels = []\n",
        "  data= []\n",
        "  for index, type in tqdm.tqdm(enumerate(train_classes)):\n",
        "    items = os.listdir('./180/{}/{}'.format(folder_name,type))\n",
        "    i=0\n",
        "    for bird in items:\n",
        "      img = image.load_img('./180/{}/{}/{}'.format(folder_name,type,bird), \n",
        "                      target_size=(IMG_SIZE, IMG_SIZE))\n",
        "      data.append(image.img_to_array(img))\n",
        "      labels.append(index)\n",
        "      if generate:  \n",
        "        img_gen = image.img_to_array(img)\n",
        "        img_gen = img_gen.reshape((1,) + img_gen.shape)\n",
        "        for batch in datagen.flow(img_gen, save_prefix='test', save_format='jpeg'):        \n",
        "          i += 1\n",
        "          if i > 6:\n",
        "              break\n",
        "          data.append(image.img_to_array(img))\n",
        "          labels.append(index)\n",
        "  return np.array(data,dtype=np.float32)/255, np.array(labels)\n"
      ],
      "execution_count": 0,
      "outputs": []
    },
    {
      "cell_type": "code",
      "metadata": {
        "colab_type": "code",
        "id": "GIys1_zY1S9b",
        "colab": {}
      },
      "source": [
        "train_x, train_y = extract_folder('train',True)\n",
        "validation_x, validation_y = extract_folder('valid')\n"
      ],
      "execution_count": 0,
      "outputs": []
    },
    {
      "cell_type": "code",
      "metadata": {
        "colab_type": "code",
        "id": "SFZ6ZW7KSXP9",
        "colab": {}
      },
      "source": [
        "train_x, train_y = shuffle(train_x, train_y)\n",
        "validation_x, validation_y = shuffle(validation_x, validation_y)"
      ],
      "execution_count": 0,
      "outputs": []
    },
    {
      "cell_type": "code",
      "metadata": {
        "colab_type": "code",
        "id": "19IQ2gqneqmS",
        "colab": {}
      },
      "source": [
        "IMG_SHAPE = (IMG_SIZE, IMG_SIZE, 3)\n",
        "base_model = tf.keras.applications.MobileNetV2(input_shape=IMG_SHAPE,\n",
        "                                               include_top=False,\n",
        "                                               weights='imagenet')\n"
      ],
      "execution_count": 0,
      "outputs": []
    },
    {
      "cell_type": "code",
      "metadata": {
        "id": "DZLWEjX02_47",
        "colab_type": "code",
        "colab": {}
      },
      "source": [
        "model = tf.keras.Sequential();\n",
        "model.add(base_model)\n",
        "model.add(layers.GlobalAveragePooling2D())\n",
        "model.add(layers.BatchNormalization())\n",
        "model.add(layers.Dropout(0.5))\n",
        "model.add(layers.Dense(len(train_classes), activation='softmax'))\n",
        "model.summary()\n",
        "model.compile(optimizer=tf.keras.optimizers.Adam(),\n",
        "              loss=tf.keras.losses.SparseCategoricalCrossentropy(),\n",
        "              metrics=['accuracy'])"
      ],
      "execution_count": 0,
      "outputs": []
    },
    {
      "cell_type": "code",
      "metadata": {
        "id": "tkzYEskQjnsv",
        "colab_type": "code",
        "colab": {}
      },
      "source": [
        "history = model.fit(train_x, train_y,\n",
        "                    epochs=10,\n",
        "                    validation_data=(validation_x,validation_y), shuffle=True)"
      ],
      "execution_count": 0,
      "outputs": []
    },
    {
      "cell_type": "code",
      "metadata": {
        "id": "Q4kUqX2YjpDX",
        "colab_type": "code",
        "colab": {}
      },
      "source": [
        "acc = history.history['accuracy']\n",
        "val_acc = history.history['val_accuracy']\n",
        "\n",
        "loss = history.history['loss']\n",
        "val_loss = history.history['val_loss']\n",
        "\n",
        "plt.figure(figsize=(8, 8))\n",
        "plt.subplot(2, 1, 1)\n",
        "plt.plot(acc, label='Training Accuracy')\n",
        "plt.plot(val_acc, label='Validation Accuracy')\n",
        "plt.legend(loc='lower right')\n",
        "plt.ylabel('Accuracy')\n",
        "plt.ylim([min(plt.ylim()),1])\n",
        "plt.title('Training and Validation Accuracy')\n",
        "\n",
        "plt.subplot(2, 1, 2)\n",
        "plt.plot(loss, label='Training Loss')\n",
        "plt.plot(val_loss, label='Validation Loss')\n",
        "plt.legend(loc='upper right')\n",
        "plt.ylabel('Cross Entropy')\n",
        "#plt.ylim([0,1.0])\n",
        "plt.title('Training and Validation Loss')\n",
        "plt.xlabel('epoch')\n",
        "plt.show()"
      ],
      "execution_count": 0,
      "outputs": []
    },
    {
      "cell_type": "code",
      "metadata": {
        "id": "LQOQc5zCmscg",
        "colab_type": "code",
        "colab": {}
      },
      "source": [
        "from tensorflow.python.keras.preprocessing import image\n",
        "test_image_path = './180/test/BLACK SWAN/1.jpg'\n",
        "img = image.load_img(test_image_path, target_size=(224, 224))\n",
        "img = np.array(image.img_to_array(img), dtype=np.float32)/255\n",
        "data = img.reshape(1,IMG_SIZE, IMG_SIZE,3)\n",
        "predict = model.predict(data)\n",
        "print(predict)\n",
        "plt.title(train_classes[np.argmax(predict)])\n",
        "plt.imshow(img)\n",
        "plt.show()"
      ],
      "execution_count": 0,
      "outputs": []
    },
    {
      "cell_type": "code",
      "metadata": {
        "id": "94ifTjwGoSB4",
        "colab_type": "code",
        "colab": {}
      },
      "source": [
        ""
      ],
      "execution_count": 0,
      "outputs": []
    }
  ],
  "metadata": {
    "accelerator": "GPU",
    "colab": {
      "name": "birds_species_classification.ipynb",
      "provenance": [],
      "private_outputs": true,
      "collapsed_sections": [],
      "toc_visible": true,
      "machine_shape": "hm"
    },
    "kernelspec": {
      "display_name": "Python 3",
      "name": "python3"
    }
  },
  "nbformat": 4,
  "nbformat_minor": 0
}